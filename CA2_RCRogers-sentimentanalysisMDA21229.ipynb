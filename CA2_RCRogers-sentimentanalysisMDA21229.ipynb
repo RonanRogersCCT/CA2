{
 "cells": [
  {
   "cell_type": "code",
   "execution_count": null,
   "id": "d58f98c3",
   "metadata": {},
   "outputs": [],
   "source": [
    "# imports\n",
    "import numpy as np\n",
    "import pandas as pd\n",
    "import warnings\n",
    "warnings.filterwarnings(\"ignore\")"
   ]
  },
  {
   "cell_type": "code",
   "execution_count": null,
   "id": "81c93c54",
   "metadata": {},
   "outputs": [],
   "source": [
    "###  We are going to create a sentiment analyis model which we shall apply to an Irish dataset and a UK dataset to see how they compare.\n",
    "dfLeicester=pd.read_excel('planning-permissions.xlsx', nrows = 1000)  ####  Our UK dataset relates to planning and construction in Leicester, UK.\n",
    "dfLeicester.head()"
   ]
  },
  {
   "cell_type": "code",
   "execution_count": null,
   "id": "5448629d",
   "metadata": {},
   "outputs": [],
   "source": [
    "dfLeicester=dfLeicester[['proposal','decision_description','decision']]"
   ]
  },
  {
   "cell_type": "code",
   "execution_count": null,
   "id": "c1e41f0e",
   "metadata": {},
   "outputs": [],
   "source": [
    "dfLeicester.dtypes"
   ]
  },
  {
   "cell_type": "code",
   "execution_count": null,
   "id": "8cfbeb09",
   "metadata": {},
   "outputs": [],
   "source": [
    "dfLeicester.dtypes"
   ]
  },
  {
   "cell_type": "code",
   "execution_count": null,
   "id": "b9356eb7",
   "metadata": {},
   "outputs": [],
   "source": [
    "import matplotlib.pyplot as plt\n",
    "import seaborn as sns\n",
    "color = sns.color_palette()\n",
    "%matplotlib inline\n",
    "import plotly.offline as py\n",
    "py.init_notebook_mode(connected=True)\n",
    "import plotly.graph_objs as go\n",
    "import plotly.tools as tls\n",
    "import plotly.express as px\n",
    "# Product Scores\n",
    "fig = px.histogram(dfLeicester, x=\"decision_description\")\n",
    "fig.update_traces(marker_color=\"turquoise\",marker_line_color='rgb(8,48,107)',\n",
    "                  marker_line_width=1.5)\n",
    "fig.update_layout(title_text='decision_description')\n",
    "fig.show()"
   ]
  },
  {
   "cell_type": "code",
   "execution_count": null,
   "id": "aded2f9c",
   "metadata": {},
   "outputs": [],
   "source": [
    "#https://365datascience.com/tutorials/python-tutorials/sentiment-analysis-with-python/"
   ]
  },
  {
   "cell_type": "code",
   "execution_count": null,
   "id": "9a3a99b0",
   "metadata": {},
   "outputs": [],
   "source": [
    "import re\n",
    "import nltk\n",
    "nltk.download('stopwords')"
   ]
  },
  {
   "cell_type": "code",
   "execution_count": null,
   "id": "6825c2e3",
   "metadata": {},
   "outputs": [],
   "source": [
    "import nltk\n",
    "\n",
    "nltk.download([\n",
    "     \"names\",\n",
    "     \"stopwords\",\n",
    "     \"state_union\",\n",
    "     \"twitter_samples\",\n",
    "     \"movie_reviews\",\n",
    "     \"averaged_perceptron_tagger\",\n",
    "     \"vader_lexicon\",\n",
    "     \"punkt\",\n",
    " ])"
   ]
  },
  {
   "cell_type": "code",
   "execution_count": null,
   "id": "0dee9715",
   "metadata": {},
   "outputs": [],
   "source": [
    "dfLeicester"
   ]
  },
  {
   "cell_type": "code",
   "execution_count": null,
   "id": "4b6173a8",
   "metadata": {},
   "outputs": [],
   "source": [
    "dfLeicester.decision_description.value_counts()"
   ]
  },
  {
   "cell_type": "code",
   "execution_count": null,
   "id": "bcfbda4b",
   "metadata": {},
   "outputs": [],
   "source": [
    "dfLeicester.decision.value_counts()"
   ]
  },
  {
   "cell_type": "code",
   "execution_count": null,
   "id": "3b32e43d",
   "metadata": {},
   "outputs": [],
   "source": [
    "import numpy as np\n",
    "\n",
    "def create_sentiment(rating):\n",
    "    \n",
    "    if rating==\"RF\" or rating==\"WD\":\n",
    "        return -1 # negative sentiment\n",
    "    elif rating==\"CO\" or rating==\"SA\":\n",
    "        return 1 # positive sentiment\n",
    "    else:\n",
    "        return 0 # neutral sentiment\n",
    "\n",
    "dfLeicester['Sentiment'] = dfLeicester['decision'].apply(create_sentiment)"
   ]
  },
  {
   "cell_type": "code",
   "execution_count": null,
   "id": "b3b264d2",
   "metadata": {},
   "outputs": [],
   "source": [
    "from sklearn.feature_extraction.text import re\n",
    "\n",
    "def clean_data(review):\n",
    "    no_punc = re.sub(r'[^\\w\\s]', '', review) ###  no punctuation\n",
    "    no_digits = ''.join([i for i in no_punc if not i.isdigit()])  ### no digits\n",
    "    \n",
    "    return(no_digits)"
   ]
  },
  {
   "cell_type": "code",
   "execution_count": null,
   "id": "d79c40da",
   "metadata": {},
   "outputs": [],
   "source": [
    "dfLeicester['proposal'][165]"
   ]
  },
  {
   "cell_type": "code",
   "execution_count": null,
   "id": "3736b5c5",
   "metadata": {},
   "outputs": [],
   "source": [
    "dfLeicester['proposal'].apply(clean_data)\n",
    "dfLeicester['proposal'][165]"
   ]
  },
  {
   "cell_type": "code",
   "execution_count": null,
   "id": "b460e870",
   "metadata": {},
   "outputs": [],
   "source": [
    "from sklearn.feature_extraction.text import TfidfVectorizer\n",
    "\n",
    "tfidf = TfidfVectorizer(strip_accents=None, \n",
    "                        lowercase=False,\n",
    "                        preprocessor=None)\n",
    "\n",
    "X = tfidf.fit_transform(dfLeicester['proposal'])"
   ]
  },
  {
   "cell_type": "code",
   "execution_count": null,
   "id": "c5be3b52",
   "metadata": {},
   "outputs": [],
   "source": [
    "from sklearn.model_selection import train_test_split\n",
    "y = dfLeicester['Sentiment'] # target variable\n",
    "X_train, X_test, y_train, y_test = train_test_split(X,y)"
   ]
  },
  {
   "cell_type": "code",
   "execution_count": null,
   "id": "2c326f97",
   "metadata": {},
   "outputs": [],
   "source": [
    "from sklearn.linear_model import LogisticRegression\n",
    "lr = LogisticRegression(solver='liblinear')\n",
    "lr.fit(X_train,y_train) # fit the model\n",
    "preds = lr.predict(X_test) # make predictions"
   ]
  },
  {
   "cell_type": "code",
   "execution_count": null,
   "id": "6e6fcf70",
   "metadata": {},
   "outputs": [],
   "source": [
    "from sklearn.metrics import accuracy_score"
   ]
  },
  {
   "cell_type": "code",
   "execution_count": null,
   "id": "e2e43fa0",
   "metadata": {},
   "outputs": [],
   "source": [
    "###  Accuracy above 90% would be ideal."
   ]
  },
  {
   "cell_type": "code",
   "execution_count": null,
   "id": "b045d3bc",
   "metadata": {},
   "outputs": [],
   "source": [
    "accuracy_score(preds,y_test)"
   ]
  },
  {
   "cell_type": "code",
   "execution_count": null,
   "id": "b41e5e64",
   "metadata": {},
   "outputs": [],
   "source": [
    "### https://towardsdatascience.com/the-complete-guide-to-time-series-forecasting-using-sklearn-pandas-and-numpy-7694c90e45c1"
   ]
  },
  {
   "cell_type": "markdown",
   "id": "15812bb0",
   "metadata": {},
   "source": [
    "###  Test 2"
   ]
  },
  {
   "cell_type": "code",
   "execution_count": null,
   "id": "936074dd",
   "metadata": {},
   "outputs": [],
   "source": [
    "DCC=pd.read_csv('DCC_PlanApps.csv',encoding='latin-1',nrows=1000)  ###  This dataset relates to buildings constructed with planning permission in Ireland."
   ]
  },
  {
   "cell_type": "code",
   "execution_count": null,
   "id": "496b4a4a",
   "metadata": {},
   "outputs": [],
   "source": [
    "DCC.columns"
   ]
  },
  {
   "cell_type": "code",
   "execution_count": null,
   "id": "8ad850f1",
   "metadata": {},
   "outputs": [],
   "source": [
    "DCC=DCC[['PROPOSAL','APPTYPE','DECISION']]\n",
    "DCC.DECISION.value_counts()"
   ]
  },
  {
   "cell_type": "code",
   "execution_count": null,
   "id": "3e3a2785",
   "metadata": {},
   "outputs": [],
   "source": [
    "import numpy as np\n",
    "\n",
    "def create_sentiment(rating):\n",
    "    \n",
    "    if rating==\"REFUSE PERMISSION\" or rating==\"SPLIT DECISION(PERMISSION & REFUSAL)\" or rating==\"REFUSE OUTLINE PERMISSION\":\n",
    "        return -1 # negative sentiment\n",
    "    elif rating==\"GRANT PERMISSION\" or rating==\"GRANT OUTLINE PERMISSION\":\n",
    "        return 1 # positive sentiment\n",
    "    else:\n",
    "        return 0 # neutral sentiment\n",
    "\n",
    "DCC['Sentiment'] = DCC['DECISION'].apply(create_sentiment)"
   ]
  },
  {
   "cell_type": "code",
   "execution_count": null,
   "id": "5d1e1479",
   "metadata": {},
   "outputs": [],
   "source": [
    "from sklearn.feature_extraction.text import re\n",
    "\n",
    "def clean_data(review):\n",
    "    no_punc = re.sub(r'[^\\w\\s]', '', review) ###  no punctuation\n",
    "    no_digits = ''.join([i for i in no_punc if not i.isdigit()])  ### no digits\n",
    "    \n",
    "    return(no_digits)"
   ]
  },
  {
   "cell_type": "code",
   "execution_count": null,
   "id": "aca6a91c",
   "metadata": {},
   "outputs": [],
   "source": [
    "DCC['PROPOSAL'][148]"
   ]
  },
  {
   "cell_type": "code",
   "execution_count": null,
   "id": "716be8ab",
   "metadata": {},
   "outputs": [],
   "source": [
    "DCC['PROPOSAL'].apply(clean_data)\n",
    "DCC['PROPOSAL'][148]"
   ]
  },
  {
   "cell_type": "code",
   "execution_count": null,
   "id": "8874b411",
   "metadata": {},
   "outputs": [],
   "source": [
    "from sklearn.feature_extraction.text import TfidfVectorizer\n",
    "\n",
    "tfidf = TfidfVectorizer(strip_accents=None, \n",
    "                        lowercase=False,\n",
    "                        preprocessor=None)\n",
    "\n",
    "X = tfidf.fit_transform(DCC['PROPOSAL'])"
   ]
  },
  {
   "cell_type": "code",
   "execution_count": null,
   "id": "4b62dced",
   "metadata": {},
   "outputs": [],
   "source": [
    "from sklearn.model_selection import train_test_split\n",
    "y = DCC['Sentiment'] # target variable\n",
    "X_train, X_test, y_train, y_test = train_test_split(X,y)"
   ]
  },
  {
   "cell_type": "code",
   "execution_count": null,
   "id": "bdc2bca2",
   "metadata": {},
   "outputs": [],
   "source": [
    "from sklearn.linear_model import LogisticRegression\n",
    "lr = LogisticRegression(solver='liblinear')\n",
    "lr.fit(X_train,y_train) # fit the model\n",
    "preds = lr.predict(X_test) # make predictions"
   ]
  },
  {
   "cell_type": "code",
   "execution_count": null,
   "id": "060beb57",
   "metadata": {},
   "outputs": [],
   "source": [
    "from sklearn.metrics import accuracy_score"
   ]
  },
  {
   "cell_type": "code",
   "execution_count": null,
   "id": "d65720d0",
   "metadata": {},
   "outputs": [],
   "source": [
    "accuracy_score(preds,y_test)"
   ]
  },
  {
   "cell_type": "markdown",
   "id": "76b4543f",
   "metadata": {},
   "source": [
    "####  Both models under-performed.  The parameters need to be improved.  Given our hypothetical situation where we try to guage the efficacy of a sentiment analysis model on planning and construction datasets between two countries, we may conclude that a.  we need more data and b. sentiment anslysis might not be the best model."
   ]
  },
  {
   "cell_type": "code",
   "execution_count": null,
   "id": "a7e2b778",
   "metadata": {},
   "outputs": [],
   "source": []
  }
 ],
 "metadata": {
  "kernelspec": {
   "display_name": "Python 3 (ipykernel)",
   "language": "python",
   "name": "python3"
  },
  "language_info": {
   "codemirror_mode": {
    "name": "ipython",
    "version": 3
   },
   "file_extension": ".py",
   "mimetype": "text/x-python",
   "name": "python",
   "nbconvert_exporter": "python",
   "pygments_lexer": "ipython3",
   "version": "3.10.9"
  }
 },
 "nbformat": 4,
 "nbformat_minor": 5
}
