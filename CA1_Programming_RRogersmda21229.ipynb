{
 "cells": [
  {
   "cell_type": "code",
   "execution_count": 66,
   "id": "edc37069",
   "metadata": {},
   "outputs": [],
   "source": [
    "import numpy as np\n",
    "import pandas as pd\n",
    "import matplotlib.pyplot as plt\n",
    "%matplotlib inline\n",
    "#Disable the warnings\n",
    "import seaborn as sns\n",
    "import warnings\n",
    "warnings.filterwarnings('ignore')"
   ]
  },
  {
   "cell_type": "markdown",
   "id": "ac94b40a",
   "metadata": {},
   "source": [
    "#### 1.\tProgramming: The project must be explored programmatically: this means that you must implement suitable Python tools (code and/or libraries) to complete the analysis required. All of this is to be implemented in a Jupyter Notebook. "
   ]
  },
  {
   "cell_type": "code",
   "execution_count": 67,
   "id": "b3a1e7e1",
   "metadata": {},
   "outputs": [],
   "source": [
    "df1=pd.read_csv('Irish construction index data.csv', encoding=\"ISO-8859-1\")"
   ]
  },
  {
   "cell_type": "code",
   "execution_count": 68,
   "id": "98e9d740",
   "metadata": {},
   "outputs": [
    {
     "data": {
      "text/plain": [
       "(460, 5)"
      ]
     },
     "execution_count": 68,
     "metadata": {},
     "output_type": "execute_result"
    }
   ],
   "source": [
    "df1.shape"
   ]
  },
  {
   "cell_type": "code",
   "execution_count": 69,
   "id": "5715f2cb",
   "metadata": {},
   "outputs": [
    {
     "data": {
      "text/plain": [
       "Index(['ï»¿Statistic Label', 'Year', 'Type of Building and Construction',\n",
       "       'UNIT', 'VALUE'],\n",
       "      dtype='object')"
      ]
     },
     "execution_count": 69,
     "metadata": {},
     "output_type": "execute_result"
    }
   ],
   "source": [
    "df1.columns"
   ]
  },
  {
   "cell_type": "code",
   "execution_count": 70,
   "id": "167bd892",
   "metadata": {},
   "outputs": [
    {
     "data": {
      "text/html": [
       "<div>\n",
       "<style scoped>\n",
       "    .dataframe tbody tr th:only-of-type {\n",
       "        vertical-align: middle;\n",
       "    }\n",
       "\n",
       "    .dataframe tbody tr th {\n",
       "        vertical-align: top;\n",
       "    }\n",
       "\n",
       "    .dataframe thead th {\n",
       "        text-align: right;\n",
       "    }\n",
       "</style>\n",
       "<table border=\"1\" class=\"dataframe\">\n",
       "  <thead>\n",
       "    <tr style=\"text-align: right;\">\n",
       "      <th></th>\n",
       "      <th>ï»¿Statistic Label</th>\n",
       "      <th>Year</th>\n",
       "      <th>Type of Building and Construction</th>\n",
       "      <th>UNIT</th>\n",
       "      <th>VALUE</th>\n",
       "    </tr>\n",
       "  </thead>\n",
       "  <tbody>\n",
       "    <tr>\n",
       "      <th>0</th>\n",
       "      <td>Value of Production Index in Building and Cons...</td>\n",
       "      <td>2000</td>\n",
       "      <td>All building and construction</td>\n",
       "      <td>Base 2015=100</td>\n",
       "      <td>155.852221</td>\n",
       "    </tr>\n",
       "    <tr>\n",
       "      <th>1</th>\n",
       "      <td>Value of Production Index in Building and Cons...</td>\n",
       "      <td>2000</td>\n",
       "      <td>Building (excluding civil engineering)</td>\n",
       "      <td>Base 2015=100</td>\n",
       "      <td>199.844255</td>\n",
       "    </tr>\n",
       "    <tr>\n",
       "      <th>2</th>\n",
       "      <td>Value of Production Index in Building and Cons...</td>\n",
       "      <td>2000</td>\n",
       "      <td>Residential building</td>\n",
       "      <td>Base 2015=100</td>\n",
       "      <td>311.698160</td>\n",
       "    </tr>\n",
       "    <tr>\n",
       "      <th>3</th>\n",
       "      <td>Value of Production Index in Building and Cons...</td>\n",
       "      <td>2000</td>\n",
       "      <td>Non-residential building</td>\n",
       "      <td>Base 2015=100</td>\n",
       "      <td>121.431248</td>\n",
       "    </tr>\n",
       "    <tr>\n",
       "      <th>4</th>\n",
       "      <td>Value of Production Index in Building and Cons...</td>\n",
       "      <td>2000</td>\n",
       "      <td>Civil engineering</td>\n",
       "      <td>Base 2015=100</td>\n",
       "      <td>63.619979</td>\n",
       "    </tr>\n",
       "  </tbody>\n",
       "</table>\n",
       "</div>"
      ],
      "text/plain": [
       "                                  ï»¿Statistic Label  Year  \\\n",
       "0  Value of Production Index in Building and Cons...  2000   \n",
       "1  Value of Production Index in Building and Cons...  2000   \n",
       "2  Value of Production Index in Building and Cons...  2000   \n",
       "3  Value of Production Index in Building and Cons...  2000   \n",
       "4  Value of Production Index in Building and Cons...  2000   \n",
       "\n",
       "        Type of Building and Construction           UNIT       VALUE  \n",
       "0           All building and construction  Base 2015=100  155.852221  \n",
       "1  Building (excluding civil engineering)  Base 2015=100  199.844255  \n",
       "2                    Residential building  Base 2015=100  311.698160  \n",
       "3                Non-residential building  Base 2015=100  121.431248  \n",
       "4                       Civil engineering  Base 2015=100   63.619979  "
      ]
     },
     "execution_count": 70,
     "metadata": {},
     "output_type": "execute_result"
    }
   ],
   "source": [
    "df1.head()"
   ]
  },
  {
   "cell_type": "markdown",
   "id": "f2c14de7",
   "metadata": {},
   "source": [
    "#### 4.\tTesting & Optimisation: You are required to document and evaluate a testing and optimisation strategy for your analysis. As part of this, you may want to plan and document how you ensured your code is doing what it is meant to, as well as ensuring that the code is making good use of your resources (eg computing, time etc). Note any trade-offs that you've made in these areas."
   ]
  },
  {
   "cell_type": "code",
   "execution_count": 71,
   "id": "4dea40cb",
   "metadata": {},
   "outputs": [],
   "source": [
    "df1 = df1.rename(columns={\"ï»¿Statistic Label\": \"Statistic_Label\"}) ## rename columns\n",
    "df1 = df1.rename(columns={\"Type of Building and Construction\": \"Type_of_Building_and_Construction\"})"
   ]
  },
  {
   "cell_type": "code",
   "execution_count": 72,
   "id": "5dbbcdea",
   "metadata": {},
   "outputs": [
    {
     "data": {
      "text/html": [
       "<div>\n",
       "<style scoped>\n",
       "    .dataframe tbody tr th:only-of-type {\n",
       "        vertical-align: middle;\n",
       "    }\n",
       "\n",
       "    .dataframe tbody tr th {\n",
       "        vertical-align: top;\n",
       "    }\n",
       "\n",
       "    .dataframe thead th {\n",
       "        text-align: right;\n",
       "    }\n",
       "</style>\n",
       "<table border=\"1\" class=\"dataframe\">\n",
       "  <thead>\n",
       "    <tr style=\"text-align: right;\">\n",
       "      <th></th>\n",
       "      <th>Statistic_Label</th>\n",
       "      <th>Year</th>\n",
       "      <th>Type_of_Building_and_Construction</th>\n",
       "      <th>VALUE</th>\n",
       "    </tr>\n",
       "  </thead>\n",
       "  <tbody>\n",
       "    <tr>\n",
       "      <th>0</th>\n",
       "      <td>Value of Production Index in Building and Cons...</td>\n",
       "      <td>2000</td>\n",
       "      <td>All building and construction</td>\n",
       "      <td>155.852221</td>\n",
       "    </tr>\n",
       "    <tr>\n",
       "      <th>1</th>\n",
       "      <td>Value of Production Index in Building and Cons...</td>\n",
       "      <td>2000</td>\n",
       "      <td>Building (excluding civil engineering)</td>\n",
       "      <td>199.844255</td>\n",
       "    </tr>\n",
       "    <tr>\n",
       "      <th>2</th>\n",
       "      <td>Value of Production Index in Building and Cons...</td>\n",
       "      <td>2000</td>\n",
       "      <td>Residential building</td>\n",
       "      <td>311.698160</td>\n",
       "    </tr>\n",
       "    <tr>\n",
       "      <th>3</th>\n",
       "      <td>Value of Production Index in Building and Cons...</td>\n",
       "      <td>2000</td>\n",
       "      <td>Non-residential building</td>\n",
       "      <td>121.431248</td>\n",
       "    </tr>\n",
       "    <tr>\n",
       "      <th>4</th>\n",
       "      <td>Value of Production Index in Building and Cons...</td>\n",
       "      <td>2000</td>\n",
       "      <td>Civil engineering</td>\n",
       "      <td>63.619979</td>\n",
       "    </tr>\n",
       "    <tr>\n",
       "      <th>...</th>\n",
       "      <td>...</td>\n",
       "      <td>...</td>\n",
       "      <td>...</td>\n",
       "      <td>...</td>\n",
       "    </tr>\n",
       "    <tr>\n",
       "      <th>455</th>\n",
       "      <td>Volume of Production Index in Building and Con...</td>\n",
       "      <td>2022</td>\n",
       "      <td>All building and construction</td>\n",
       "      <td>130.320963</td>\n",
       "    </tr>\n",
       "    <tr>\n",
       "      <th>456</th>\n",
       "      <td>Volume of Production Index in Building and Con...</td>\n",
       "      <td>2022</td>\n",
       "      <td>Building (excluding civil engineering)</td>\n",
       "      <td>135.733187</td>\n",
       "    </tr>\n",
       "    <tr>\n",
       "      <th>457</th>\n",
       "      <td>Volume of Production Index in Building and Con...</td>\n",
       "      <td>2022</td>\n",
       "      <td>Residential building</td>\n",
       "      <td>115.723415</td>\n",
       "    </tr>\n",
       "    <tr>\n",
       "      <th>458</th>\n",
       "      <td>Volume of Production Index in Building and Con...</td>\n",
       "      <td>2022</td>\n",
       "      <td>Non-residential building</td>\n",
       "      <td>138.403250</td>\n",
       "    </tr>\n",
       "    <tr>\n",
       "      <th>459</th>\n",
       "      <td>Volume of Production Index in Building and Con...</td>\n",
       "      <td>2022</td>\n",
       "      <td>Civil engineering</td>\n",
       "      <td>105.572834</td>\n",
       "    </tr>\n",
       "  </tbody>\n",
       "</table>\n",
       "<p>460 rows × 4 columns</p>\n",
       "</div>"
      ],
      "text/plain": [
       "                                       Statistic_Label  Year  \\\n",
       "0    Value of Production Index in Building and Cons...  2000   \n",
       "1    Value of Production Index in Building and Cons...  2000   \n",
       "2    Value of Production Index in Building and Cons...  2000   \n",
       "3    Value of Production Index in Building and Cons...  2000   \n",
       "4    Value of Production Index in Building and Cons...  2000   \n",
       "..                                                 ...   ...   \n",
       "455  Volume of Production Index in Building and Con...  2022   \n",
       "456  Volume of Production Index in Building and Con...  2022   \n",
       "457  Volume of Production Index in Building and Con...  2022   \n",
       "458  Volume of Production Index in Building and Con...  2022   \n",
       "459  Volume of Production Index in Building and Con...  2022   \n",
       "\n",
       "          Type_of_Building_and_Construction       VALUE  \n",
       "0             All building and construction  155.852221  \n",
       "1    Building (excluding civil engineering)  199.844255  \n",
       "2                      Residential building  311.698160  \n",
       "3                  Non-residential building  121.431248  \n",
       "4                         Civil engineering   63.619979  \n",
       "..                                      ...         ...  \n",
       "455           All building and construction  130.320963  \n",
       "456  Building (excluding civil engineering)  135.733187  \n",
       "457                    Residential building  115.723415  \n",
       "458                Non-residential building  138.403250  \n",
       "459                       Civil engineering  105.572834  \n",
       "\n",
       "[460 rows x 4 columns]"
      ]
     },
     "execution_count": 72,
     "metadata": {},
     "output_type": "execute_result"
    }
   ],
   "source": [
    "df1 = df1.drop(columns=[\"UNIT\"]) # drop useless columns\n",
    "df1"
   ]
  },
  {
   "cell_type": "code",
   "execution_count": 73,
   "id": "2c3e13d1",
   "metadata": {},
   "outputs": [
    {
     "name": "stdout",
     "output_type": "stream",
     "text": [
      "<class 'pandas.core.frame.DataFrame'>\n",
      "RangeIndex: 460 entries, 0 to 459\n",
      "Data columns (total 4 columns):\n",
      " #   Column                             Non-Null Count  Dtype  \n",
      "---  ------                             --------------  -----  \n",
      " 0   Statistic_Label                    460 non-null    object \n",
      " 1   Year                               460 non-null    int64  \n",
      " 2   Type_of_Building_and_Construction  460 non-null    object \n",
      " 3   VALUE                              460 non-null    float64\n",
      "dtypes: float64(1), int64(1), object(2)\n",
      "memory usage: 14.5+ KB\n"
     ]
    }
   ],
   "source": [
    "df1.info() ###  check the dataset for size, missing values et cetera to impose efficiencies."
   ]
  },
  {
   "cell_type": "code",
   "execution_count": 74,
   "id": "e0bd411b",
   "metadata": {},
   "outputs": [
    {
     "data": {
      "text/plain": [
       "Index                                 128\n",
       "Statistic_Label                      3680\n",
       "Year                                 3680\n",
       "Type_of_Building_and_Construction    3680\n",
       "VALUE                                3680\n",
       "dtype: int64"
      ]
     },
     "execution_count": 74,
     "metadata": {},
     "output_type": "execute_result"
    }
   ],
   "source": [
    "df1.memory_usage()"
   ]
  },
  {
   "cell_type": "code",
   "execution_count": 75,
   "id": "7ab0f5fa",
   "metadata": {},
   "outputs": [
    {
     "data": {
      "text/plain": [
       "Statistic_Label                       object\n",
       "Year                                   int64\n",
       "Type_of_Building_and_Construction     object\n",
       "VALUE                                float64\n",
       "dtype: object"
      ]
     },
     "execution_count": 75,
     "metadata": {},
     "output_type": "execute_result"
    }
   ],
   "source": [
    "df1.dtypes"
   ]
  },
  {
   "cell_type": "code",
   "execution_count": 76,
   "id": "f01da70b",
   "metadata": {},
   "outputs": [
    {
     "name": "stdout",
     "output_type": "stream",
     "text": [
      "Statistic_Label                      category\n",
      "Year                                    int64\n",
      "Type_of_Building_and_Construction    category\n",
      "VALUE                                 float64\n",
      "dtype: object\n"
     ]
    }
   ],
   "source": [
    "### change datatypes from object to category (for efficiency) \n",
    "df1.Statistic_Label = df1.Statistic_Label.astype(\"category\")\n",
    "# \n",
    "df1.Type_of_Building_and_Construction = df1.Type_of_Building_and_Construction.astype(\"category\")\n",
    "print(df1.dtypes)"
   ]
  },
  {
   "cell_type": "code",
   "execution_count": 77,
   "id": "a303a392",
   "metadata": {},
   "outputs": [
    {
     "data": {
      "text/html": [
       "<div>\n",
       "<style scoped>\n",
       "    .dataframe tbody tr th:only-of-type {\n",
       "        vertical-align: middle;\n",
       "    }\n",
       "\n",
       "    .dataframe tbody tr th {\n",
       "        vertical-align: top;\n",
       "    }\n",
       "\n",
       "    .dataframe thead th {\n",
       "        text-align: right;\n",
       "    }\n",
       "</style>\n",
       "<table border=\"1\" class=\"dataframe\">\n",
       "  <thead>\n",
       "    <tr style=\"text-align: right;\">\n",
       "      <th></th>\n",
       "      <th>Statistic_Label</th>\n",
       "      <th>Year</th>\n",
       "      <th>Type_of_Building_and_Construction</th>\n",
       "      <th>VALUE</th>\n",
       "    </tr>\n",
       "  </thead>\n",
       "  <tbody>\n",
       "    <tr>\n",
       "      <th>455</th>\n",
       "      <td>Volume of Production Index in Building and Con...</td>\n",
       "      <td>2022-01-01</td>\n",
       "      <td>All building and construction</td>\n",
       "      <td>130.320963</td>\n",
       "    </tr>\n",
       "    <tr>\n",
       "      <th>456</th>\n",
       "      <td>Volume of Production Index in Building and Con...</td>\n",
       "      <td>2022-01-01</td>\n",
       "      <td>Building (excluding civil engineering)</td>\n",
       "      <td>135.733187</td>\n",
       "    </tr>\n",
       "    <tr>\n",
       "      <th>457</th>\n",
       "      <td>Volume of Production Index in Building and Con...</td>\n",
       "      <td>2022-01-01</td>\n",
       "      <td>Residential building</td>\n",
       "      <td>115.723415</td>\n",
       "    </tr>\n",
       "    <tr>\n",
       "      <th>458</th>\n",
       "      <td>Volume of Production Index in Building and Con...</td>\n",
       "      <td>2022-01-01</td>\n",
       "      <td>Non-residential building</td>\n",
       "      <td>138.403250</td>\n",
       "    </tr>\n",
       "    <tr>\n",
       "      <th>459</th>\n",
       "      <td>Volume of Production Index in Building and Con...</td>\n",
       "      <td>2022-01-01</td>\n",
       "      <td>Civil engineering</td>\n",
       "      <td>105.572834</td>\n",
       "    </tr>\n",
       "  </tbody>\n",
       "</table>\n",
       "</div>"
      ],
      "text/plain": [
       "                                       Statistic_Label       Year  \\\n",
       "455  Volume of Production Index in Building and Con... 2022-01-01   \n",
       "456  Volume of Production Index in Building and Con... 2022-01-01   \n",
       "457  Volume of Production Index in Building and Con... 2022-01-01   \n",
       "458  Volume of Production Index in Building and Con... 2022-01-01   \n",
       "459  Volume of Production Index in Building and Con... 2022-01-01   \n",
       "\n",
       "          Type_of_Building_and_Construction       VALUE  \n",
       "455           All building and construction  130.320963  \n",
       "456  Building (excluding civil engineering)  135.733187  \n",
       "457                    Residential building  115.723415  \n",
       "458                Non-residential building  138.403250  \n",
       "459                       Civil engineering  105.572834  "
      ]
     },
     "execution_count": 77,
     "metadata": {},
     "output_type": "execute_result"
    }
   ],
   "source": [
    "df1[\"Year\"] = pd.to_datetime(df1[\"Year\"], format=\"%Y\")\n",
    "df1[\"VALUE\"].astype(\"float32\")\n",
    "df1.tail()"
   ]
  },
  {
   "cell_type": "code",
   "execution_count": 78,
   "id": "a1b3f2c1",
   "metadata": {},
   "outputs": [
    {
     "data": {
      "text/plain": [
       "Index                                 128\n",
       "Statistic_Label                       664\n",
       "Year                                 3680\n",
       "Type_of_Building_and_Construction     672\n",
       "VALUE                                3680\n",
       "dtype: int64"
      ]
     },
     "execution_count": 78,
     "metadata": {},
     "output_type": "execute_result"
    }
   ],
   "source": [
    "df1.memory_usage()"
   ]
  },
  {
   "cell_type": "markdown",
   "id": "fbf34cde",
   "metadata": {},
   "source": [
    "#### We have saved on memory usage.  This dataset is really small but one could easily apply the efficiencies to a large dataset"
   ]
  },
  {
   "cell_type": "markdown",
   "id": "df18f0a8",
   "metadata": {},
   "source": [
    "####\t2. Data structures: You are required to gather and process data that has been stored in at least two distinct formats. For example, this can be data in a CSV file, from a MySQL database or from a web API in JSON format"
   ]
  },
  {
   "cell_type": "code",
   "execution_count": 79,
   "id": "22a5e0ac",
   "metadata": {},
   "outputs": [
    {
     "data": {
      "text/html": [
       "<div>\n",
       "<style scoped>\n",
       "    .dataframe tbody tr th:only-of-type {\n",
       "        vertical-align: middle;\n",
       "    }\n",
       "\n",
       "    .dataframe tbody tr th {\n",
       "        vertical-align: top;\n",
       "    }\n",
       "\n",
       "    .dataframe thead th {\n",
       "        text-align: right;\n",
       "    }\n",
       "</style>\n",
       "<table border=\"1\" class=\"dataframe\">\n",
       "  <thead>\n",
       "    <tr style=\"text-align: right;\">\n",
       "      <th></th>\n",
       "      <th>geo_point_2d</th>\n",
       "      <th>geo_shape</th>\n",
       "      <th>application_number</th>\n",
       "      <th>pprn</th>\n",
       "      <th>proposal</th>\n",
       "      <th>location</th>\n",
       "      <th>ward_description</th>\n",
       "      <th>application_type</th>\n",
       "      <th>application_description_1</th>\n",
       "      <th>decision</th>\n",
       "      <th>decision_description</th>\n",
       "      <th>decision_date</th>\n",
       "      <th>perm_expiry_date</th>\n",
       "      <th>appeal_number</th>\n",
       "      <th>appeal_decision</th>\n",
       "      <th>appeal_decision_date</th>\n",
       "    </tr>\n",
       "  </thead>\n",
       "  <tbody>\n",
       "    <tr>\n",
       "      <th>3527</th>\n",
       "      <td>{'lon': -1.1510228914, 'lat': 52.6282215084}</td>\n",
       "      <td>{'type': 'Feature', 'geometry': {'coordinates'...</td>\n",
       "      <td>20220464</td>\n",
       "      <td>KOK6121</td>\n",
       "      <td>Alterations, construction of single and two st...</td>\n",
       "      <td>19 Harrow Road</td>\n",
       "      <td>Westcotes</td>\n",
       "      <td>DEV</td>\n",
       "      <td>Operational development - full application</td>\n",
       "      <td>CO</td>\n",
       "      <td>Conditional approval</td>\n",
       "      <td>2022-09-12</td>\n",
       "      <td>2025-09-12</td>\n",
       "      <td>None</td>\n",
       "      <td>None</td>\n",
       "      <td>None</td>\n",
       "    </tr>\n",
       "    <tr>\n",
       "      <th>3350</th>\n",
       "      <td>{'lon': -1.1258329487, 'lat': 52.643595299}</td>\n",
       "      <td>{'type': 'Feature', 'geometry': {'coordinates'...</td>\n",
       "      <td>20213079</td>\n",
       "      <td>NLC4650</td>\n",
       "      <td>Removal of condition 2 (Parking) attached to p...</td>\n",
       "      <td>19 Lower Willow Street</td>\n",
       "      <td>Wycliffe</td>\n",
       "      <td>DEV</td>\n",
       "      <td>Operational development - full application</td>\n",
       "      <td>CO</td>\n",
       "      <td>Conditional approval</td>\n",
       "      <td>2022-05-30</td>\n",
       "      <td>2025-05-30</td>\n",
       "      <td>None</td>\n",
       "      <td>None</td>\n",
       "      <td>None</td>\n",
       "    </tr>\n",
       "    <tr>\n",
       "      <th>1594</th>\n",
       "      <td>{'lon': -1.1464574937, 'lat': 52.6702479804}</td>\n",
       "      <td>{'type': 'Feature', 'geometry': {'coordinates'...</td>\n",
       "      <td>20200061</td>\n",
       "      <td>KFI1697</td>\n",
       "      <td>Discharge of condition attached to planning pe...</td>\n",
       "      <td>Bewcastle Grove</td>\n",
       "      <td>Abbey</td>\n",
       "      <td>CON</td>\n",
       "      <td>Application to discharge conditions</td>\n",
       "      <td>SA</td>\n",
       "      <td>Unconditional approval</td>\n",
       "      <td>2020-02-24</td>\n",
       "      <td>2023-02-21</td>\n",
       "      <td>None</td>\n",
       "      <td>None</td>\n",
       "      <td>None</td>\n",
       "    </tr>\n",
       "    <tr>\n",
       "      <th>8986</th>\n",
       "      <td>{'lon': -1.1388307668, 'lat': 52.63758735}</td>\n",
       "      <td>{'type': 'Feature', 'geometry': {'coordinates'...</td>\n",
       "      <td>20181141</td>\n",
       "      <td>LMN7372</td>\n",
       "      <td>INSTALLATION OF 2.5 METRE HIGH MULTI-FUNCTIONA...</td>\n",
       "      <td>VAUGHAN WAY, NORTH OF HIGHCROSS SHOPPING CENTRE</td>\n",
       "      <td>Belgrave</td>\n",
       "      <td>DEV</td>\n",
       "      <td>Operational development - full application</td>\n",
       "      <td>CO</td>\n",
       "      <td>Conditional approval</td>\n",
       "      <td>2018-10-05</td>\n",
       "      <td>2021-10-05</td>\n",
       "      <td>None</td>\n",
       "      <td>None</td>\n",
       "      <td>None</td>\n",
       "    </tr>\n",
       "    <tr>\n",
       "      <th>5670</th>\n",
       "      <td>{'lon': -1.1608651685, 'lat': 52.5930123451}</td>\n",
       "      <td>{'type': 'Feature', 'geometry': {'coordinates'...</td>\n",
       "      <td>20191739</td>\n",
       "      <td>IWO3589</td>\n",
       "      <td>DISCHARGE OF CONDITIONS ATTACHED TO PLANNING P...</td>\n",
       "      <td>BRIDGEMERE CLOSE, REAR OF 133 - 141 LUTTERWORT...</td>\n",
       "      <td>Aylestone</td>\n",
       "      <td>CON</td>\n",
       "      <td>Application to discharge conditions</td>\n",
       "      <td>SA</td>\n",
       "      <td>Unconditional approval</td>\n",
       "      <td>2019-12-11</td>\n",
       "      <td>None</td>\n",
       "      <td>None</td>\n",
       "      <td>None</td>\n",
       "      <td>None</td>\n",
       "    </tr>\n",
       "  </tbody>\n",
       "</table>\n",
       "</div>"
      ],
      "text/plain": [
       "                                      geo_point_2d  \\\n",
       "3527  {'lon': -1.1510228914, 'lat': 52.6282215084}   \n",
       "3350   {'lon': -1.1258329487, 'lat': 52.643595299}   \n",
       "1594  {'lon': -1.1464574937, 'lat': 52.6702479804}   \n",
       "8986    {'lon': -1.1388307668, 'lat': 52.63758735}   \n",
       "5670  {'lon': -1.1608651685, 'lat': 52.5930123451}   \n",
       "\n",
       "                                              geo_shape  application_number  \\\n",
       "3527  {'type': 'Feature', 'geometry': {'coordinates'...            20220464   \n",
       "3350  {'type': 'Feature', 'geometry': {'coordinates'...            20213079   \n",
       "1594  {'type': 'Feature', 'geometry': {'coordinates'...            20200061   \n",
       "8986  {'type': 'Feature', 'geometry': {'coordinates'...            20181141   \n",
       "5670  {'type': 'Feature', 'geometry': {'coordinates'...            20191739   \n",
       "\n",
       "         pprn                                           proposal  \\\n",
       "3527  KOK6121  Alterations, construction of single and two st...   \n",
       "3350  NLC4650  Removal of condition 2 (Parking) attached to p...   \n",
       "1594  KFI1697  Discharge of condition attached to planning pe...   \n",
       "8986  LMN7372  INSTALLATION OF 2.5 METRE HIGH MULTI-FUNCTIONA...   \n",
       "5670  IWO3589  DISCHARGE OF CONDITIONS ATTACHED TO PLANNING P...   \n",
       "\n",
       "                                               location ward_description  \\\n",
       "3527                                     19 Harrow Road        Westcotes   \n",
       "3350                             19 Lower Willow Street         Wycliffe   \n",
       "1594                                    Bewcastle Grove            Abbey   \n",
       "8986    VAUGHAN WAY, NORTH OF HIGHCROSS SHOPPING CENTRE         Belgrave   \n",
       "5670  BRIDGEMERE CLOSE, REAR OF 133 - 141 LUTTERWORT...        Aylestone   \n",
       "\n",
       "     application_type                   application_description_1 decision  \\\n",
       "3527              DEV  Operational development - full application       CO   \n",
       "3350              DEV  Operational development - full application       CO   \n",
       "1594              CON         Application to discharge conditions       SA   \n",
       "8986              DEV  Operational development - full application       CO   \n",
       "5670              CON         Application to discharge conditions       SA   \n",
       "\n",
       "        decision_description decision_date perm_expiry_date appeal_number  \\\n",
       "3527    Conditional approval    2022-09-12       2025-09-12          None   \n",
       "3350    Conditional approval    2022-05-30       2025-05-30          None   \n",
       "1594  Unconditional approval    2020-02-24       2023-02-21          None   \n",
       "8986    Conditional approval    2018-10-05       2021-10-05          None   \n",
       "5670  Unconditional approval    2019-12-11             None          None   \n",
       "\n",
       "     appeal_decision appeal_decision_date  \n",
       "3527            None                 None  \n",
       "3350            None                 None  \n",
       "1594            None                 None  \n",
       "8986            None                 None  \n",
       "5670            None                 None  "
      ]
     },
     "execution_count": 79,
     "metadata": {},
     "output_type": "execute_result"
    }
   ],
   "source": [
    "# df1=pd.read_csv('Irish construction index data.csv', encoding=\"ISO-8859-1\")\n",
    "# df2=pd.read_excel('planning-permissions.xlsx')\n",
    "df = pd.read_json(\"planning-permissions.json\")\n",
    "df.sample(5)\n"
   ]
  },
  {
   "cell_type": "code",
   "execution_count": 80,
   "id": "e0bbd1dc",
   "metadata": {},
   "outputs": [],
   "source": [
    "###  Alternatively if the author wished to read into pandas a database from Mysql he could have tried this.\n",
    "### import pandas as pd\n",
    "#import mysql.connector\n",
    "\n",
    "#mydb = mysql.connector.connect(\n",
    "#  host=\"localhost\",\n",
    "#  user=\"myusername\",\n",
    "#  password=\"mypassword\",\n",
    "#  database=\"mydatabase\"\n",
    "#)\n",
    "\n",
    "#df = pd.read_sql(\"SELECT * FROM mytable\", mydb)\n",
    "\n",
    "#print(df)\n",
    "\n",
    "###  However he chose to use excel, csv and json files instead."
   ]
  },
  {
   "cell_type": "markdown",
   "id": "e9bda131",
   "metadata": {},
   "source": [
    "#### 3.\tDocumentation: The project documentation must include sound justifications and explanation of your code choices. Code quality standards should also be applied. (see above)"
   ]
  },
  {
   "cell_type": "code",
   "execution_count": 81,
   "id": "4fc0e55f",
   "metadata": {},
   "outputs": [],
   "source": [
    "################################################"
   ]
  },
  {
   "cell_type": "markdown",
   "id": "818a42ad",
   "metadata": {},
   "source": [
    "#### 5.\tData manipulation: For each of the different data sources, compare and contrast at least two relevant libraries and techniques for a) processing and b) aggregating the respective data, in order to justify your chosen libraries/techniques. [0-20]"
   ]
  },
  {
   "cell_type": "markdown",
   "id": "20a85b82",
   "metadata": {},
   "source": [
    "##### 1. NumPy is a Python library used for working with arrays. Numpy. is therefore ideal for csv and excel files, both of which have rows and columns-type structures. It also has useful functions when you are working in the domain of linear algebra (www.google.com)."
   ]
  },
  {
   "cell_type": "markdown",
   "id": "463976fe",
   "metadata": {},
   "source": [
    "#### 2. Seaborn is a Python data visualization library which is based on Matplotlib (another python library). It provides a high-level package for useful and attractive graphs.  Thus it's helpful for working with csv files (ibid.)."
   ]
  },
  {
   "cell_type": "markdown",
   "id": "78696ec4",
   "metadata": {},
   "source": [
    "####  3. Simplejson is a Python library used for working with JSON data. It provides functions for encoding and decoding JSON data (ibid.)."
   ]
  },
  {
   "cell_type": "markdown",
   "id": "1244020f",
   "metadata": {},
   "source": [
    "#### 4. Chart js is an open-source JavaScript library for making HTML-based charts. It's one of the simplest visualization libraries for JavaScript, and it features support for line, bar, scatter, doughnut, pie, radar, area, and bubble charts (www.makeuseof.com)"
   ]
  },
  {
   "cell_type": "markdown",
   "id": "7a1f8733",
   "metadata": {},
   "source": [
    "####  According to pydata.org, pandas is a 'Python package providing fast, flexible, and expressive data structures designed to *make* *processing* with “relational” or “labeled” data both easy and intuitive\". It aims to be the \"gold standard\" in practical, real-world data analysis in Python (www.365datascience.com)."
   ]
  },
  {
   "cell_type": "markdown",
   "id": "e9474fd1",
   "metadata": {},
   "source": [
    "####  Pandas has a tool for data aggregation. One can use the groupby() method to group data and then apply an aggregation function such as sum(), mean(), count() to it (ibid.).  As regards json files, one can use pandas and groupby functions on them too.  One uses the read_json() method in this case.  To aggregate the data in your json file, again one can use the groupby() function (www.makeuseof.com)."
   ]
  },
  {
   "cell_type": "code",
   "execution_count": null,
   "id": "cbf140a3",
   "metadata": {},
   "outputs": [],
   "source": []
  }
 ],
 "metadata": {
  "kernelspec": {
   "display_name": "Python 3 (ipykernel)",
   "language": "python",
   "name": "python3"
  },
  "language_info": {
   "codemirror_mode": {
    "name": "ipython",
    "version": 3
   },
   "file_extension": ".py",
   "mimetype": "text/x-python",
   "name": "python",
   "nbconvert_exporter": "python",
   "pygments_lexer": "ipython3",
   "version": "3.10.9"
  }
 },
 "nbformat": 4,
 "nbformat_minor": 5
}
